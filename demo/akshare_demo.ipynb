{
 "cells": [
  {
   "cell_type": "code",
   "id": "initial_id",
   "metadata": {
    "collapsed": true,
    "ExecuteTime": {
     "end_time": "2025-02-12T09:54:53.746007Z",
     "start_time": "2025-02-12T09:54:53.730066Z"
    }
   },
   "source": [
    "import os\n",
    "import pandas as pd\n",
    "import akshare as ak\n",
    "from datetime import date\n",
    "# from prettytable import PrettyTable"
   ],
   "outputs": [],
   "execution_count": 8
  },
  {
   "metadata": {
    "ExecuteTime": {
     "end_time": "2025-02-12T10:08:32.776169Z",
     "start_time": "2025-02-12T10:08:32.769266Z"
    }
   },
   "cell_type": "code",
   "source": [
    "class AkshareData:\n",
    "\n",
    "    # 创建本地数据缓存\n",
    "    today = date.today()\n",
    "    today_str = today.strftime(\"%Y%m%d\")\n",
    "\n",
    "    @property\n",
    "    def cache_path(self) -> str:\n",
    "        cache_path = './data-cache/{}'.format(self.today_str)\n",
    "        if not os.path.exists(cache_path):\n",
    "            os.makedirs(cache_path)\n",
    "            print('new cache dir: {}'.format(cache_path))\n",
    "        return cache_path\n",
    "\n",
    "    @property\n",
    "    def stocks_data(self) -> pd.DataFrame:\n",
    "        # 保存美股全股票数据\n",
    "        if not os.path.exists(\"{}/stocks.csv\".format(self.cache_path)):\n",
    "            stocks = ak.stock_us_spot_em()\n",
    "            stocks.to_csv(\"{}/stocks.csv\".format(self.cache_path), index=False)\n",
    "            print('saved stocks data')\n",
    "        else:\n",
    "            stocks = pd.read_csv(\"{}/stocks.csv\".format(self.cache_path))\n",
    "            # print('stocks data exists')\n",
    "        return stocks\n",
    "\n",
    "    def stock_k_data(self, stock_code: str) -> pd.DataFrame:\n",
    "        # 保存指定的股票K线数据\n",
    "        if not os.path.exists(\"{}/{}.csv\".format(self.cache_path, stock_code)):\n",
    "            stock_k_data = ak.stock_us_hist(\n",
    "                symbol=stock_code, period='daily', start_date='20200101', adjust='qfq')\n",
    "            stock_k_data.to_csv(\"{}/{}.csv\".format(self.cache_path, stock_code), index=False)\n",
    "            print('saved stock({}) k data'.format(stock_code))\n",
    "        else:\n",
    "            stock_k_data = pd.read_csv(\"{}/{}.csv\".format(self.cache_path, stock_code))\n",
    "            print('stock({}) k data exists'.format(stock_code))\n",
    "        return stock_k_data"
   ],
   "id": "2e6d1958996852ad",
   "outputs": [],
   "execution_count": 18
  },
  {
   "metadata": {
    "ExecuteTime": {
     "end_time": "2025-02-12T10:08:37.030798Z",
     "start_time": "2025-02-12T10:08:37.027710Z"
    }
   },
   "cell_type": "code",
   "source": "ak_data = AkshareData()",
   "id": "ca064722c065f6bd",
   "outputs": [],
   "execution_count": 19
  },
  {
   "metadata": {},
   "cell_type": "markdown",
   "source": "# Test",
   "id": "e5b8ecff0743c075"
  },
  {
   "metadata": {
    "ExecuteTime": {
     "end_time": "2025-02-12T10:15:21.276984Z",
     "start_time": "2025-02-12T10:15:21.265114Z"
    }
   },
   "cell_type": "code",
   "source": [
    "if __name__ == '__main__':\n",
    "    data = {\n",
    "        \"data name\": [\n",
    "            \"today\",\n",
    "            \"today str\",\n",
    "            \"cache path\"\n",
    "        ],\n",
    "        \"data value\": [\n",
    "            ak_data.today,\n",
    "            ak_data.today_str,\n",
    "            ak_data.cache_path\n",
    "        ]\n",
    "    }\n",
    "    print(pd.DataFrame(data))\n",
    "    "
   ],
   "id": "d469cd818af603c8",
   "outputs": [
    {
     "name": "stdout",
     "output_type": "stream",
     "text": [
      "    data name             data value\n",
      "0       today             2025-02-12\n",
      "1   today str               20250212\n",
      "2  cache path  ./data-cache/20250212\n"
     ]
    }
   ],
   "execution_count": 22
  },
  {
   "metadata": {
    "ExecuteTime": {
     "end_time": "2025-02-12T10:16:18.804229Z",
     "start_time": "2025-02-12T10:16:18.749421Z"
    }
   },
   "cell_type": "code",
   "source": [
    "if __name__ == '__main__':\n",
    "    print(ak_data.stocks_data.head(5))"
   ],
   "id": "76bd18f86c7830b1",
   "outputs": [
    {
     "name": "stdout",
     "output_type": "stream",
     "text": [
      "   序号                        名称    最新价    涨跌额     涨跌幅    开盘价     最高价    最低价  \\\n",
      "0   1  Firefly Neuroscience Inc  8.400  5.300  170.97  4.300  11.510  3.950   \n",
      "1   2          Society Pass Inc  5.730  3.130  120.38  2.980   6.750  2.880   \n",
      "2   3    Omega Therapeutics Inc  0.193  0.085   78.98  0.108   0.260  0.105   \n",
      "3   4           Lottery.com Inc  2.210  0.970   78.23  1.300   2.330  1.240   \n",
      "4   5        Safety Shot Inc Wt  0.187  0.069   58.81  0.160   0.187  0.160   \n",
      "\n",
      "     昨收价         总市值   市盈率          成交量           成交额      振幅      换手率  \\\n",
      "0  3.100  66742032.0 -9.29  195409794.0  1.422019e+09  243.87  2459.38   \n",
      "1  2.600  20889798.0 -1.77   52989901.0  2.506739e+08  148.85  1453.49   \n",
      "2  0.108  10702289.0 -0.15  319917312.0  6.330124e+07  143.33   577.82   \n",
      "3  1.240  26698831.0 -0.79   56530541.0  1.052678e+08   87.90   467.93   \n",
      "4  0.118         NaN   NaN       2822.0  4.710000e+02   22.89      NaN   \n",
      "\n",
      "          代码  \n",
      "0   105.AIFF  \n",
      "1   105.SOPA  \n",
      "2   105.OMGA  \n",
      "3   105.LTRY  \n",
      "4  105.SHOTW  \n"
     ]
    }
   ],
   "execution_count": 23
  },
  {
   "metadata": {
    "ExecuteTime": {
     "end_time": "2025-02-12T10:18:21.854129Z",
     "start_time": "2025-02-12T10:18:21.840371Z"
    }
   },
   "cell_type": "code",
   "source": [
    "if __name__ == '__main__':\n",
    "    print(ak_data.stock_k_data(\"105.AAPL\").head(5))"
   ],
   "id": "b408dc7e8c52621f",
   "outputs": [
    {
     "name": "stdout",
     "output_type": "stream",
     "text": [
      "stock(105.AAPL) k data exists\n",
      "           日期      开盘      收盘      最高      最低       成交量           成交额    振幅  \\\n",
      "0  2020-01-02  69.288  70.315  70.378  69.025  33911864  1.012066e+10  1.97   \n",
      "1  2020-01-03  69.515  69.585  70.373  69.353  36633878  1.095156e+10  1.45   \n",
      "2  2020-01-06  68.675  70.178  70.218  68.415  29644644  8.829113e+09  2.59   \n",
      "3  2020-01-07  70.188  69.825  70.453  69.598  27877655  8.336994e+09  1.22   \n",
      "4  2020-01-08  69.518  71.025  71.338  69.518  33090946  9.967739e+09  2.61   \n",
      "\n",
      "    涨跌幅    涨跌额   换手率  \n",
      "0  2.44  1.675  0.77  \n",
      "1 -1.04 -0.730  0.84  \n",
      "2  0.85  0.593  0.68  \n",
      "3 -0.50 -0.353  0.64  \n",
      "4  1.72  1.200  0.75  \n"
     ]
    }
   ],
   "execution_count": 25
  }
 ],
 "metadata": {
  "kernelspec": {
   "display_name": "Python 3",
   "language": "python",
   "name": "python3"
  },
  "language_info": {
   "codemirror_mode": {
    "name": "ipython",
    "version": 2
   },
   "file_extension": ".py",
   "mimetype": "text/x-python",
   "name": "python",
   "nbconvert_exporter": "python",
   "pygments_lexer": "ipython2",
   "version": "2.7.6"
  }
 },
 "nbformat": 4,
 "nbformat_minor": 5
}
