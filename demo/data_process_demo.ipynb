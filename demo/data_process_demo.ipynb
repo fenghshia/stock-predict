{
 "cells": [
  {
   "cell_type": "code",
   "id": "initial_id",
   "metadata": {
    "collapsed": true,
    "ExecuteTime": {
     "end_time": "2025-02-12T12:57:44.151566Z",
     "start_time": "2025-02-12T12:57:43.043957Z"
    }
   },
   "source": [
    "import numpy as np\n",
    "import import_ipynb\n",
    "from akshare_demo import *\n",
    "from sklearn.preprocessing import MinMaxScaler"
   ],
   "outputs": [],
   "execution_count": 2
  },
  {
   "metadata": {
    "ExecuteTime": {
     "end_time": "2025-02-12T14:54:33.566471Z",
     "start_time": "2025-02-12T14:54:33.547836Z"
    }
   },
   "cell_type": "code",
   "source": [
    "class DataProcess:\n",
    "\n",
    "    close_sc = MinMaxScaler(feature_range=(0, 1))\n",
    "    volume_sc = MinMaxScaler(feature_range=(0, 1))\n",
    "    # 归一化\n",
    "    stock_data = ak_data.stock_k_data(\"105.AAPL\")\n",
    "    stock_close_prices_log = close_sc.fit_transform(stock_data.iloc[:, 2:3].values)\n",
    "    stock_volume_log = volume_sc.fit_transform(stock_data.iloc[:, 5:6].values)\n",
    "    # 随机种子\n",
    "    seed = 7\n",
    "    # 数据窗口大小\n",
    "    window_step = 7\n",
    "\n",
    "    @property\n",
    "    def train_split(self):\n",
    "        return self.stock_close_prices_log[:-300], self.stock_volume_log[:-300]\n",
    "\n",
    "    @property\n",
    "    def test_split(self):\n",
    "        return self.stock_close_prices_log[-300:], self.stock_volume_log[-300:]\n",
    "\n",
    "    def train_data_orgnize(self):\n",
    "        stock_close_prices, stock_volume = self.train_split\n",
    "        x_train_close_data_set = list()\n",
    "        x_train_volume_data_set = list()\n",
    "        y_train_data_set = list()\n",
    "        for i in range(self.window_step, len(stock_close_prices)):\n",
    "            x_train_close_data_set.append(stock_close_prices[i - self.window_step:i, 0])\n",
    "            x_train_volume_data_set.append(stock_volume[i - self.window_step:i, 0])\n",
    "            y_train_data_set.append(stock_close_prices[i, 0])\n",
    "        x_train_close_data_set = np.array(x_train_close_data_set)\n",
    "        x_train_close_data_set = x_train_close_data_set.reshape((len(x_train_close_data_set), 7, 1))\n",
    "        x_train_volume_data_set = np.array(x_train_volume_data_set)\n",
    "        x_train_volume_data_set = x_train_volume_data_set.reshape((len(x_train_volume_data_set), 7, 1))\n",
    "        x_train_data_set = np.concatenate((x_train_close_data_set, x_train_volume_data_set), axis=2)\n",
    "        return x_train_data_set, y_train_data_set\n",
    "\n",
    "    def test_data_orgnize(self):\n",
    "        stock_close_prices, stock_volume = self.test_split\n",
    "        x_test_close_data_set = list()\n",
    "        x_test_volume_data_set = list()\n",
    "        y_test_data_set = list()\n",
    "        for i in range(self.window_step, len(stock_close_prices)):\n",
    "            x_test_close_data_set.append(stock_close_prices[i - self.window_step:i, 0])\n",
    "            x_test_volume_data_set.append(stock_volume[i - self.window_step:i, 0])\n",
    "            y_test_data_set.append(stock_close_prices[i, 0])\n",
    "        x_test_close_data_set = np.array(x_test_close_data_set)\n",
    "        x_test_close_data_set = x_test_close_data_set.reshape((len(x_test_close_data_set), 7, 1))\n",
    "        x_test_volume_data_set = np.array(x_test_volume_data_set)\n",
    "        x_test_volume_data_set = x_test_volume_data_set.reshape((len(x_test_volume_data_set), 7, 1))\n",
    "        x_test_data_set = np.concatenate((x_test_close_data_set, x_test_volume_data_set), axis=2)\n",
    "        return x_test_data_set, np.array(y_test_data_set)\n",
    "\n",
    "    def train_data_random(self):\n",
    "        x_train_data_set, y_train_data_set = self.train_data_orgnize()\n",
    "        np.random.seed(self.seed)\n",
    "        np.random.shuffle(x_train_data_set)\n",
    "        np.random.seed(self.seed)\n",
    "        np.random.shuffle(y_train_data_set)\n",
    "        return x_train_data_set, np.array(y_train_data_set)\n",
    "\n",
    "    def data_save(self):\n",
    "        x_train_data_set, y_train_data_set = self.train_data_random()\n",
    "        x_test_data_set, y_test_data_set = self.test_data_orgnize()\n",
    "        np.save('{}/x_train_data_set.npy'.format(self.aksd.cache_path), x_train_data_set)\n",
    "        np.save('{}/y_train_data_set.npy'.format(self.aksd.cache_path), y_train_data_set)\n",
    "        np.save('{}/x_test_data_set.npy'.format(self.aksd.cache_path), x_test_data_set)\n",
    "        np.save('{}/y_test_data_set.npy'.format(self.aksd.cache_path), y_test_data_set)\n",
    "    \n",
    "    def data_set(self):\n",
    "        x_train_data_set, y_train_data_set = self.train_data_random()\n",
    "        x_test_data_set, y_test_data_set = self.test_data_orgnize()\n",
    "        return x_train_data_set, y_train_data_set, x_test_data_set, y_test_data_set"
   ],
   "id": "2524a0a2b7e696ee",
   "outputs": [
    {
     "name": "stdout",
     "output_type": "stream",
     "text": [
      "stock(105.AAPL) k data exists\n"
     ]
    }
   ],
   "execution_count": 65
  },
  {
   "metadata": {
    "ExecuteTime": {
     "end_time": "2025-02-12T14:54:37.092271Z",
     "start_time": "2025-02-12T14:54:37.089529Z"
    }
   },
   "cell_type": "code",
   "source": "dp = DataProcess()",
   "id": "416494ca0365976",
   "outputs": [],
   "execution_count": 66
  },
  {
   "metadata": {},
   "cell_type": "markdown",
   "source": "# Test",
   "id": "342c2435152e0257"
  },
  {
   "metadata": {
    "ExecuteTime": {
     "end_time": "2025-02-12T14:54:39.021322Z",
     "start_time": "2025-02-12T14:54:39.014226Z"
    }
   },
   "cell_type": "code",
   "source": [
    "if __name__ == '__main__':\n",
    "    x_train_data_set, y_train_data_set, x_test_data_set, y_test_data_set = dp.data_set()\n",
    "    print(x_train_data_set.shape)\n",
    "    print(x_train_data_set[:1])"
   ],
   "id": "dd324d233187c6b",
   "outputs": [
    {
     "name": "stdout",
     "output_type": "stream",
     "text": [
      "(978, 7, 2)\n",
      "[[[0.57897683 0.21174015]\n",
      "  [0.58491149 0.2075823 ]\n",
      "  [0.5707262  0.22199089]\n",
      "  [0.56932697 0.19974793]\n",
      "  [0.56580477 0.18306671]\n",
      "  [0.58109979 0.1753183 ]\n",
      "  [0.58809594 0.16397978]]]\n"
     ]
    }
   ],
   "execution_count": 67
  },
  {
   "metadata": {
    "ExecuteTime": {
     "end_time": "2025-02-12T14:55:14.111848Z",
     "start_time": "2025-02-12T14:55:14.104771Z"
    }
   },
   "cell_type": "code",
   "source": [
    "if __name__ == '__main__':\n",
    "    print(y_train_data_set.shape)\n",
    "    print(y_train_data_set[:1])"
   ],
   "id": "b8d90f5767d45a2a",
   "outputs": [
    {
     "name": "stdout",
     "output_type": "stream",
     "text": [
      "(978,)\n",
      "[0.56802424]\n"
     ]
    }
   ],
   "execution_count": 68
  },
  {
   "metadata": {
    "ExecuteTime": {
     "end_time": "2025-02-12T14:55:36.838446Z",
     "start_time": "2025-02-12T14:55:36.834790Z"
    }
   },
   "cell_type": "code",
   "source": [
    "if __name__ == '__main__':\n",
    "    print(x_test_data_set.shape)\n",
    "    print(x_test_data_set[:1])"
   ],
   "id": "550def6abbb2dee1",
   "outputs": [
    {
     "name": "stdout",
     "output_type": "stream",
     "text": [
      "(293, 7, 2)\n",
      "[[[0.66196558 0.09202776]\n",
      "  [0.66818974 0.08214371]\n",
      "  [0.65945662 0.0747366 ]\n",
      "  [0.67870808 0.14908229]\n",
      "  [0.67340066 0.06737915]\n",
      "  [0.68280927 0.08781534]\n",
      "  [0.68975716 0.10678242]]]\n"
     ]
    }
   ],
   "execution_count": 69
  },
  {
   "metadata": {
    "ExecuteTime": {
     "end_time": "2025-02-12T14:55:58.527754Z",
     "start_time": "2025-02-12T14:55:58.521027Z"
    }
   },
   "cell_type": "code",
   "source": [
    "if __name__ == '__main__':\n",
    "    print(y_test_data_set.shape)\n",
    "    print(y_test_data_set[:1])"
   ],
   "id": "5975a9228e42cc11",
   "outputs": [
    {
     "name": "stdout",
     "output_type": "stream",
     "text": [
      "(293,)\n",
      "[0.67755009]\n"
     ]
    }
   ],
   "execution_count": 70
  },
  {
   "metadata": {},
   "cell_type": "code",
   "outputs": [],
   "execution_count": null,
   "source": "",
   "id": "f938468fe5e06fe0"
  }
 ],
 "metadata": {
  "kernelspec": {
   "display_name": "Python 3",
   "language": "python",
   "name": "python3"
  },
  "language_info": {
   "codemirror_mode": {
    "name": "ipython",
    "version": 2
   },
   "file_extension": ".py",
   "mimetype": "text/x-python",
   "name": "python",
   "nbconvert_exporter": "python",
   "pygments_lexer": "ipython2",
   "version": "2.7.6"
  }
 },
 "nbformat": 4,
 "nbformat_minor": 5
}
